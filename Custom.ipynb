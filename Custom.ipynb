{
 "cells": [
  {
   "cell_type": "code",
   "execution_count": 1,
   "id": "9209977f-a379-43ed-a3f3-1ebfa0ecea38",
   "metadata": {},
   "outputs": [],
   "source": [
    "import numpy as np\n",
    "import pandas as pd\n",
    "from sklearn.preprocessing import LabelEncoder"
   ]
  },
  {
   "cell_type": "code",
   "execution_count": 2,
   "id": "9cae36d8-4214-443b-a12d-f09de1b0b243",
   "metadata": {},
   "outputs": [],
   "source": [
    "# Custom decision stump implementation (a simple split on one feature)\n",
    "class DecisionStump:\n",
    "    def __init__(self):\n",
    "        self.feature_index = None\n",
    "        self.threshold = None\n",
    "        self.left_value = None\n",
    "        self.right_value = None\n",
    "\n",
    "    def fit(self, X, y):\n",
    "        m, n = X.shape\n",
    "        best_mse = float('inf')\n",
    "\n",
    "        # Loop over all features and find the best split\n",
    "        for feature_index in range(n):\n",
    "            thresholds = np.unique(X[:, feature_index])\n",
    "            for threshold in thresholds:\n",
    "                left_indices = X[:, feature_index] <= threshold\n",
    "                right_indices = X[:, feature_index] > threshold\n",
    "                \n",
    "                left_mean = np.mean(y[left_indices]) if len(y[left_indices]) > 0 else 0\n",
    "                right_mean = np.mean(y[right_indices]) if len(y[right_indices]) > 0 else 0\n",
    "                \n",
    "                # Predict the mean for each region\n",
    "                left_pred = np.full(sum(left_indices), left_mean)\n",
    "                right_pred = np.full(sum(right_indices), right_mean)\n",
    "                \n",
    "                predictions = np.concatenate([left_pred, right_pred])\n",
    "                residuals = np.concatenate([y[left_indices], y[right_indices]]) - predictions\n",
    "                \n",
    "                mse = np.mean(residuals ** 2)\n",
    "\n",
    "                if mse < best_mse:\n",
    "                    best_mse = mse\n",
    "                    self.feature_index = feature_index\n",
    "                    self.threshold = threshold\n",
    "                    self.left_value = left_mean\n",
    "                    self.right_value = right_mean\n",
    "\n",
    "    def predict(self, X):\n",
    "        predictions = np.where(X[:, self.feature_index] <= self.threshold, self.left_value, self.right_value)\n",
    "        return predictions\n",
    "\n",
    "\n",
    "# Custom Gradient Boosting class\n",
    "class CustomGradientBoosting:\n",
    "    def __init__(self, n_estimators=100, learning_rate=0.1):\n",
    "        self.n_estimators = n_estimators\n",
    "        self.learning_rate = learning_rate\n",
    "        self.stumps = []\n",
    "\n",
    "    def fit(self, X, y):\n",
    "        m = len(y)\n",
    "        # Initialize predictions with the mean\n",
    "        initial_prediction = np.mean(y)\n",
    "        self.initial_prediction = initial_prediction\n",
    "        predictions = np.full(m, initial_prediction)\n",
    "        \n",
    "        # Train decision stumps on residuals\n",
    "        for _ in range(self.n_estimators):\n",
    "            residuals = y - predictions  # Calculate residuals\n",
    "            \n",
    "            stump = DecisionStump()\n",
    "            stump.fit(X, residuals)  # Fit the stump to the residuals\n",
    "            self.stumps.append(stump)\n",
    "\n",
    "            stump_predictions = stump.predict(X)\n",
    "            predictions += self.learning_rate * stump_predictions  # Update predictions\n",
    "\n",
    "    def predict(self, X):\n",
    "        m = X.shape[0]\n",
    "        predictions = np.full(m, self.initial_prediction)\n",
    "\n",
    "        # Add predictions from each stump\n",
    "        for stump in self.stumps:\n",
    "            predictions += self.learning_rate * stump.predict(X)\n",
    "\n",
    "        return predictions\n",
    "\n",
    "\n"
   ]
  },
  {
   "cell_type": "code",
   "execution_count": 3,
   "id": "b1494c68-5cbc-4ed0-90f7-5861eab7cb9e",
   "metadata": {},
   "outputs": [],
   "source": [
    "train_data = pd.read_csv('train.csv')\n",
    "test_data = pd.read_csv('test.csv')"
   ]
  },
  {
   "cell_type": "code",
   "execution_count": 4,
   "id": "7dfb4d34-b0e2-4838-8149-884f5bdbc6ac",
   "metadata": {},
   "outputs": [],
   "source": [
    "train_data['Item_Weight'] = train_data['Item_Weight'].fillna(train_data['Item_Weight'].mean())\n",
    "train_data['Outlet_Size'] = train_data['Outlet_Size'].fillna(\"Unknown\")\n",
    "\n",
    "test_data['Item_Weight'] = test_data['Item_Weight'].fillna(test_data['Item_Weight'].mean())\n",
    "test_data['Outlet_Size'] = test_data['Outlet_Size'].fillna(\"Unknown\")\n",
    "\n",
    "train_data['Item_Fat_Content'] = train_data['Item_Fat_Content'].replace({\n",
    "    'LF': 'Low Fat', 'low fat': 'Low Fat', 'reg': 'Regular'\n",
    "})\n",
    "test_data['Item_Fat_Content'] = test_data['Item_Fat_Content'].replace({\n",
    "    'LF': 'Low Fat', 'low fat': 'Low Fat', 'reg': 'Regular'\n",
    "})\n",
    "\n"
   ]
  },
  {
   "cell_type": "code",
   "execution_count": 5,
   "id": "8d8966be-7e8e-437c-bb57-8a01d0059485",
   "metadata": {},
   "outputs": [],
   "source": [
    "label_encoder = LabelEncoder()"
   ]
  },
  {
   "cell_type": "code",
   "execution_count": 6,
   "id": "e8fadaba-c0ee-4a57-894d-e3f3fe29f0d9",
   "metadata": {},
   "outputs": [],
   "source": [
    "train_data['Item_Type'] = label_encoder.fit_transform(train_data['Item_Type'])\n",
    "train_data['Outlet_Identifier'] = label_encoder.fit_transform(train_data['Outlet_Identifier'])\n",
    "train_data['Outlet_Location_Type'] = label_encoder.fit_transform(train_data['Outlet_Location_Type'])\n",
    "train_data['Outlet_Type'] = label_encoder.fit_transform(train_data['Outlet_Type'])\n",
    "train_data['Item_Fat_Content'] = label_encoder.fit_transform(train_data['Item_Fat_Content'])\n",
    "train_data['Outlet_Size'] = label_encoder.fit_transform(train_data['Outlet_Size'])\n"
   ]
  },
  {
   "cell_type": "code",
   "execution_count": 7,
   "id": "14f439d4-b0de-4a06-981f-91d359715a20",
   "metadata": {},
   "outputs": [],
   "source": [
    "# Encoding categorical features in training data\n",
    "test_data['Item_Type'] = label_encoder.fit_transform(test_data['Item_Type'])\n",
    "test_data['Outlet_Identifier'] = label_encoder.fit_transform(test_data['Outlet_Identifier'])\n",
    "test_data['Outlet_Location_Type'] = label_encoder.fit_transform(test_data['Outlet_Location_Type'])\n",
    "test_data['Outlet_Type'] = label_encoder.fit_transform(test_data['Outlet_Type'])\n",
    "test_data['Item_Fat_Content'] = label_encoder.fit_transform(test_data['Item_Fat_Content'])\n",
    "test_data['Outlet_Size'] = label_encoder.fit_transform(test_data['Outlet_Size'])"
   ]
  },
  {
   "cell_type": "code",
   "execution_count": 8,
   "id": "1ce42b4f-bfb2-42fd-943d-af146278880d",
   "metadata": {},
   "outputs": [],
   "source": [
    "X_train = train_data[['Item_Type', 'Item_MRP', 'Outlet_Identifier', 'Outlet_Location_Type', 'Outlet_Type', 'Item_Fat_Content', 'Outlet_Size']].values\n",
    "y_train = train_data['Item_Outlet_Sales'].values\n"
   ]
  },
  {
   "cell_type": "code",
   "execution_count": 9,
   "id": "3cc51922-22f1-4d4e-9700-25746bdb5fff",
   "metadata": {},
   "outputs": [],
   "source": [
    "X_test = test_data[['Item_Type', 'Item_MRP', 'Outlet_Identifier', 'Outlet_Location_Type', 'Outlet_Type', 'Item_Fat_Content', 'Outlet_Size']].values"
   ]
  },
  {
   "cell_type": "code",
   "execution_count": 17,
   "id": "c6bfd4ef-fe32-42c4-aaf5-80ddef7a1a2f",
   "metadata": {},
   "outputs": [],
   "source": [
    "custom_gb = CustomGradientBoosting(n_estimators=2000, learning_rate=0.01)"
   ]
  },
  {
   "cell_type": "code",
   "execution_count": 18,
   "id": "778f934c-3b77-4083-b4c7-d11bd79f2107",
   "metadata": {},
   "outputs": [],
   "source": [
    "custom_gb.fit(X_train, y_train)"
   ]
  },
  {
   "cell_type": "code",
   "execution_count": 16,
   "id": "1672b991-b575-4305-ac61-7fdab538f18f",
   "metadata": {},
   "outputs": [
    {
     "name": "stdout",
     "output_type": "stream",
     "text": [
      "Custom Gradient Boosting RMSE on training data: 1171.4597970399616\n"
     ]
    }
   ],
   "source": [
    "y_train_pred = custom_gb.predict(X_train)\n",
    "\n",
    "# Evaluate the model using RMSE on training data\n",
    "rmse = np.sqrt(np.mean((y_train - y_train_pred) ** 2))\n",
    "print(f'Custom Gradient Boosting RMSE on training data: {rmse}')"
   ]
  },
  {
   "cell_type": "code",
   "execution_count": null,
   "id": "ea97b46c-0fe6-419a-94d7-935e5ad0e2ed",
   "metadata": {},
   "outputs": [],
   "source": [
    "y_test_pred = custom_gb.predict(X_test)\n",
    "\n",
    "# Preparing predictions for submission\n",
    "submission = pd.DataFrame({\n",
    "    'Item_Identifier': test_data['Item_Identifier'],\n",
    "    'Outlet_Identifier': test_data['Outlet_Identifier'],\n",
    "    'Item_Outlet_Sales': y_test_pred\n",
    "})\n",
    "\n",
    "# Save predictions to CSV\n",
    "submission.to_csv('sales_predictions_custom_gb.csv', index=False)\n",
    "print(\"Predictions saved to 'sales_predictions_custom_gb.csv'\")\n"
   ]
  },
  {
   "cell_type": "code",
   "execution_count": null,
   "id": "b7064c61-0a2f-461c-aeb7-479830729b8c",
   "metadata": {},
   "outputs": [],
   "source": []
  }
 ],
 "metadata": {
  "kernelspec": {
   "display_name": "Python 3 (ipykernel)",
   "language": "python",
   "name": "python3"
  },
  "language_info": {
   "codemirror_mode": {
    "name": "ipython",
    "version": 3
   },
   "file_extension": ".py",
   "mimetype": "text/x-python",
   "name": "python",
   "nbconvert_exporter": "python",
   "pygments_lexer": "ipython3",
   "version": "3.12.5"
  }
 },
 "nbformat": 4,
 "nbformat_minor": 5
}
