{
 "cells": [
  {
   "cell_type": "code",
   "execution_count": 13,
   "id": "6e1d67cb-329c-456a-bf20-9bdbe40b1d41",
   "metadata": {},
   "outputs": [],
   "source": [
    "import pandas as pd\n",
    "import numpy as np\n",
    "import matplotlib.pyplot as plt\n",
    "from sklearn.preprocessing import LabelEncoder"
   ]
  },
  {
   "cell_type": "code",
   "execution_count": 14,
   "id": "61951479-f14f-4967-b491-66cf375a35dd",
   "metadata": {},
   "outputs": [],
   "source": [
    "label_encoder = LabelEncoder()"
   ]
  },
  {
   "cell_type": "code",
   "execution_count": null,
   "id": "e99472d2-1412-45bf-a5b0-8b1a5b7045f7",
   "metadata": {},
   "outputs": [],
   "source": []
  },
  {
   "cell_type": "code",
   "execution_count": 46,
   "id": "9e29fe6d-9d14-45e2-bfb9-097f6807a43b",
   "metadata": {},
   "outputs": [],
   "source": [
    "data = pd.read_csv(\"final_preprocessed_dataset.csv\")"
   ]
  },
  {
   "cell_type": "code",
   "execution_count": null,
   "id": "29d34849-a2ce-42c8-be4c-7e72e8ce2c82",
   "metadata": {},
   "outputs": [],
   "source": []
  },
  {
   "cell_type": "code",
   "execution_count": 10,
   "id": "edde0019-8bbe-4c71-9068-9166a38655ab",
   "metadata": {},
   "outputs": [
    {
     "data": {
      "text/plain": [
       "3"
      ]
     },
     "execution_count": 10,
     "metadata": {},
     "output_type": "execute_result"
    }
   ],
   "source": [
    "df = data['type'].nunique()\n",
    "df"
   ]
  },
  {
   "cell_type": "code",
   "execution_count": 16,
   "id": "9837f088-6826-40ab-a5f9-04a9b020d48a",
   "metadata": {},
   "outputs": [
    {
     "name": "stdout",
     "output_type": "stream",
     "text": [
      "Item_Type Encoding Mapping: {np.int64(0): 0, np.int64(1): 1, np.int64(2): 2}\n"
     ]
    }
   ],
   "source": [
    "\n",
    "# Fit the label encoder on the Item_Type column\n",
    "label_encoder.fit(data['type'])\n",
    "\n",
    "# Create a mapping dictionary\n",
    "item_type_mapping = {label: idx for idx, label in enumerate(label_encoder.classes_)}\n",
    "print(\"Item_Type Encoding Mapping:\", item_type_mapping)"
   ]
  },
  {
   "cell_type": "code",
   "execution_count": null,
   "id": "0707d512-d675-4b1c-aff6-5b8ef6d42e86",
   "metadata": {},
   "outputs": [],
   "source": []
  },
  {
   "cell_type": "code",
   "execution_count": null,
   "id": "ebcfd572-7ddf-4e56-9fe9-b0ff3318c501",
   "metadata": {},
   "outputs": [],
   "source": []
  },
  {
   "cell_type": "code",
   "execution_count": 25,
   "id": "3983b29c-9ebd-4908-8a7d-6d8c67e73a2b",
   "metadata": {},
   "outputs": [
    {
     "name": "stdout",
     "output_type": "stream",
     "text": [
      "Unique store numbers for type 0: [ 1 34  6 36 31 32 33  8  2 41 39 40  4 14 13 20 19 28 27 11 24 26]\n",
      "Unique store numbers for type 1: [35  7  9 17  3 45  5 21 15 23 22 18 16 10 29 25 12]\n",
      "Unique store numbers for type 2: [37 38 30 42 43 44]\n"
     ]
    }
   ],
   "source": [
    "import pandas as pd\n",
    "\n",
    "# Sample dataset - replace with your actual data loading step\n",
    "# Example:\n",
    "# sales_data = pd.read_csv('your_sales_data.csv')\n",
    "\n",
    "# Function to get unique stores based on a specific type\n",
    "def get_unique_stores_by_type(data, target_type):\n",
    "    \"\"\"\n",
    "    Retrieve unique store numbers based on a specified type.\n",
    "\n",
    "    Args:\n",
    "        data (pd.DataFrame): The dataset containing 'store' and 'type' columns.\n",
    "        target_type (int): The store type to filter by.\n",
    "\n",
    "    Returns:\n",
    "        pd.Series: A series of unique store numbers matching the target type.\n",
    "    \"\"\"\n",
    "    # Filter the dataset based on the target type\n",
    "    filtered_data = data[data['type'] == target_type]\n",
    "    \n",
    "    # Get unique store numbers\n",
    "    unique_stores = filtered_data['store'].unique()\n",
    "    \n",
    "    return unique_stores\n",
    "\n",
    "# Example usage\n",
    "# Replace with your actual data loading\n",
    "# sales_data = pd.read_csv('sales_data.csv')\n",
    "\n",
    "\n",
    "# Display unique stores for each type (1, 2, and 3)\n",
    "for store_type in data['type'].unique():\n",
    "    unique_stores = get_unique_stores_by_type(data, store_type)\n",
    "    print(f\"Unique store numbers for type {store_type}: {unique_stores}\")\n"
   ]
  },
  {
   "cell_type": "code",
   "execution_count": null,
   "id": "d9840327-f11c-4547-a64d-2d2311909dac",
   "metadata": {},
   "outputs": [],
   "source": []
  },
  {
   "cell_type": "code",
   "execution_count": null,
   "id": "4e21763b-970f-42bc-a044-eebd8dea120b",
   "metadata": {},
   "outputs": [],
   "source": []
  },
  {
   "cell_type": "code",
   "execution_count": null,
   "id": "8c381630-0dd6-4583-ba27-2b834972bfc4",
   "metadata": {},
   "outputs": [],
   "source": []
  },
  {
   "cell_type": "code",
   "execution_count": 26,
   "id": "2b6619d0-6375-436a-9b13-80056c704dee",
   "metadata": {},
   "outputs": [],
   "source": [
    "# Department\n"
   ]
  },
  {
   "cell_type": "code",
   "execution_count": 27,
   "id": "20807295-bdd3-448c-9f81-89f4abe1b4e7",
   "metadata": {},
   "outputs": [
    {
     "name": "stdout",
     "output_type": "stream",
     "text": [
      "Unique departments for type 0: [ 1 79 80 81 82 83 85 87 90 78 91 93 94 95 96 97 98 92 74 72 71 37 38 40\n",
      " 41 42 44 45 46 48 49 51 52 54 55 56 58 59 65 67 36 60 47 35 34 33 32 31\n",
      " 30 28  3  2  4  5  7 10 13 14 16 17 21 26  8  6 27 25 24 23 22 20 19 18\n",
      " 12 11  9 29 99 50 43 39 77]\n",
      "Unique departments for type 1: [ 3  4  5  6  7  8  9 10  2 11 13 14 16 17 18 20 21 22 12  1 19 23 24 26\n",
      " 60 67 71 74 78 79 80 59 81 83 85 87 90 91 92 93 95 82 58 56 55 27 28 29\n",
      " 30 31 32 33 34 35 36 38 40 41 42 44 46 51 52 54 25 97 98 96 47 45 49 72\n",
      " 94 50 48 37 99 39 77 43]\n",
      "Unique departments for type 2: [ 5  6  7  8  9 10 11 12  4 13 16 17 18 21 25 28 31 14  3  2  1 40 42 52\n",
      " 98 97 96 95 55 56 59 60 67 72 74 79 80 81 82 83 85 87 90 91 92 93 94 46\n",
      " 23 99 26 32 38 34 44 41 20 24 29 33 22 49 71 35 27 19]\n",
      "\n",
      "Total number of departments per store:\n",
      "store\n",
      "1     75\n",
      "2     75\n",
      "3     72\n",
      "4     76\n",
      "5     72\n",
      "6     77\n",
      "7     76\n",
      "8     76\n",
      "9     73\n",
      "10    74\n",
      "11    78\n",
      "12    75\n",
      "13    76\n",
      "14    75\n",
      "15    79\n",
      "16    76\n",
      "17    76\n",
      "18    78\n",
      "19    78\n",
      "20    75\n",
      "21    77\n",
      "22    76\n",
      "23    77\n",
      "24    76\n",
      "25    77\n",
      "26    75\n",
      "27    76\n",
      "28    77\n",
      "29    77\n",
      "30    64\n",
      "31    74\n",
      "32    77\n",
      "33    63\n",
      "34    78\n",
      "35    74\n",
      "36    63\n",
      "37    62\n",
      "38    63\n",
      "39    74\n",
      "40    77\n",
      "41    76\n",
      "42    62\n",
      "43    61\n",
      "44    62\n",
      "45    74\n",
      "Name: dept, dtype: int64\n"
     ]
    }
   ],
   "source": [
    "import pandas as pd\n",
    "\n",
    "# Sample dataset - replace with your actual data loading step\n",
    "# Example:\n",
    "# sales_data = pd.read_csv('your_sales_data.csv')\n",
    "\n",
    "# Function to get unique departments based on a specific store type\n",
    "def get_unique_departments_by_type(data, target_type):\n",
    "    \"\"\"\n",
    "    Retrieve unique department numbers based on a specified store type.\n",
    "\n",
    "    Args:\n",
    "        data (pd.DataFrame): The dataset containing 'store', 'type', and 'dept' columns.\n",
    "        target_type (int): The store type to filter by.\n",
    "\n",
    "    Returns:\n",
    "        pd.Series: A series of unique department numbers matching the target type.\n",
    "    \"\"\"\n",
    "    # Filter the dataset based on the target type\n",
    "    filtered_data = data[data['type'] == target_type]\n",
    "    \n",
    "    # Get unique department numbers\n",
    "    unique_departments = filtered_data['dept'].unique()\n",
    "    \n",
    "    return unique_departments\n",
    "\n",
    "# Function to sum total departments for each store based on the store type\n",
    "def sum_departments_per_store(data):\n",
    "    \"\"\"\n",
    "    Calculate the total number of departments per store.\n",
    "\n",
    "    Args:\n",
    "        data (pd.DataFrame): The dataset containing 'store' and 'dept' columns.\n",
    "\n",
    "    Returns:\n",
    "        pd.Series: A series containing the count of departments per store.\n",
    "    \"\"\"\n",
    "    return data.groupby('store')['dept'].nunique()  # Count unique departments per store\n",
    "\n",
    "# Example usage\n",
    "# Replace with your actual data loading\n",
    "# sales_data = pd.read_csv('sales_data.csv')\n",
    "\n",
    "\n",
    "# Display unique departments for each store type\n",
    "for store_type in data['type'].unique():\n",
    "    unique_departments = get_unique_departments_by_type(data, store_type)\n",
    "    print(f\"Unique departments for type {store_type}: {unique_departments}\")\n",
    "\n",
    "# Sum total departments per store\n",
    "department_sum = sum_departments_per_store(data)\n",
    "print(\"\\nTotal number of departments per store:\")\n",
    "print(department_sum)\n"
   ]
  },
  {
   "cell_type": "code",
   "execution_count": null,
   "id": "42bb0d93-1976-42ca-a6d4-36b950e3ce97",
   "metadata": {},
   "outputs": [],
   "source": []
  },
  {
   "cell_type": "code",
   "execution_count": null,
   "id": "0fcdaa8f-e722-4943-a685-e7888fbffe43",
   "metadata": {},
   "outputs": [],
   "source": []
  },
  {
   "cell_type": "code",
   "execution_count": 30,
   "id": "faf1510c-5129-4b55-a323-b410a5949a7d",
   "metadata": {},
   "outputs": [],
   "source": [
    "min = data['size'].max"
   ]
  },
  {
   "cell_type": "code",
   "execution_count": 31,
   "id": "592d4545-0b72-4058-8c93-cc9b22857124",
   "metadata": {},
   "outputs": [
    {
     "data": {
      "text/plain": [
       "<bound method Series.max of 0         151315\n",
       "1         103681\n",
       "2         103681\n",
       "3         103681\n",
       "4         103681\n",
       "           ...  \n",
       "412717    219622\n",
       "412718    219622\n",
       "412719    219622\n",
       "412720    196321\n",
       "412721    118221\n",
       "Name: size, Length: 412722, dtype: int64>"
      ]
     },
     "execution_count": 31,
     "metadata": {},
     "output_type": "execute_result"
    }
   ],
   "source": [
    "min"
   ]
  },
  {
   "cell_type": "code",
   "execution_count": null,
   "id": "1903f676-74ce-4dcb-b11f-850c4671ca30",
   "metadata": {},
   "outputs": [],
   "source": []
  },
  {
   "cell_type": "code",
   "execution_count": 58,
   "id": "5c275357-ef69-4fb5-a98f-09a55e098bbb",
   "metadata": {},
   "outputs": [
    {
     "name": "stdout",
     "output_type": "stream",
     "text": [
      "34875\n",
      "219622\n",
      "'a': 35, 7, 37, 36, 38, 9, 30, 17, 33, 42, 43, 3, 45, 44, 5, 15, 23, 22, 18, 16, 10, 29, 25, 12\n",
      "'b': 1, 34, 6, 31, 32, 8, 2, 41, 39, 40, 4, 21, 14, 13, 20, 19, 28, 27, 11, 24, 26\n"
     ]
    }
   ],
   "source": [
    "\n",
    "# Find the minimum and maximum store size\n",
    "min_size = data['size'].min()\n",
    "max_size = data['size'].max()\n",
    "print(min_size)\n",
    "print(max_size)\n",
    "# Group store sizes into bins of 100,000 and assign labels 'a', 'b', 'c', ...\n",
    "bin_size = 100000\n",
    "\n",
    "# Ensure the bins cover all the data (including max_size)\n",
    "bins = list(range(min_size, max_size + bin_size, bin_size))  # Create bins in multiples of 100,000\n",
    "labels = [chr(i) for i in range(97, 97 + len(bins) - 1)]  # Labels 'a', 'b', 'c', ...\n",
    "\n",
    "# Use pd.cut() to categorize store sizes into bins and assign labels\n",
    "data['size_group'] = pd.cut(data['size'], bins=bins, labels=labels, right=False)\n",
    "\n",
    "# Filter stores with size_group 'c' or higher (for size > 200,000)\n",
    "filtered_data = data[data['size_group'].isin(['a','b','c', 'd', 'e', 'f'])]  # Adjust if needed based on labels\n",
    "\n",
    "# Group filtered data by size_group and display them as a dictionary\n",
    "# Use drop_duplicates() to only display unique store numbers in each group\n",
    "grouped_stores = filtered_data.groupby('size_group', observed=False)['store'].apply(lambda x: list(x.drop_duplicates())).to_dict()\n",
    "\n",
    "# Display the result in the desired format\n",
    "for label, stores in grouped_stores.items():\n",
    "    print(f\"'{label}': {', '.join(map(str, stores))}\")\n"
   ]
  },
  {
   "cell_type": "code",
   "execution_count": null,
   "id": "5ee8b5e5-75d7-4413-bef3-b52261e48651",
   "metadata": {},
   "outputs": [],
   "source": []
  }
 ],
 "metadata": {
  "kernelspec": {
   "display_name": "Python 3 (ipykernel)",
   "language": "python",
   "name": "python3"
  },
  "language_info": {
   "codemirror_mode": {
    "name": "ipython",
    "version": 3
   },
   "file_extension": ".py",
   "mimetype": "text/x-python",
   "name": "python",
   "nbconvert_exporter": "python",
   "pygments_lexer": "ipython3",
   "version": "3.12.5"
  }
 },
 "nbformat": 4,
 "nbformat_minor": 5
}
